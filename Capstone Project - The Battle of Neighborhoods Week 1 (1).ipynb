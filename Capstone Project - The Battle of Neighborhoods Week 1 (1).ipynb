{
 "cells": [
  {
   "cell_type": "markdown",
   "metadata": {},
   "source": [
    "# Capstone Project - The Battle of Neighborhoods (Week 1)"
   ]
  },
  {
   "cell_type": "markdown",
   "metadata": {},
   "source": [
    "# 1. Introduction"
   ]
  },
  {
   "cell_type": "markdown",
   "metadata": {},
   "source": [
    "# 1.1 A description of the problem and a discussion of the background."
   ]
  },
  {
   "cell_type": "markdown",
   "metadata": {},
   "source": [
    "Singapore is a multi cultural country. It has a huge variety of different cuisine.\n",
    "Queenstown district has many workplace and thus will definitely have lunch or dinner crowd\n",
    "My friend would like to set up a food store in Singapore around the Queenstown district that is near to transportation mean.\n",
    "I would like to help him to see what type of cuisine is limited or unavaliable in the district.\n",
    "This would allow him to have choices to start his business with the data that is provided.\n",
    "\n",
    "Information needed:\n",
    "1. Singapore Map (Queenstown District)\n",
    "2. Type of food in the area\n",
    "3. Near to MRT"
   ]
  },
  {
   "cell_type": "markdown",
   "metadata": {},
   "source": [
    "# 1.2 Data Required"
   ]
  },
  {
   "cell_type": "markdown",
   "metadata": {},
   "source": [
    "# 1.2.1 Description of the data and its sources"
   ]
  },
  {
   "cell_type": "markdown",
   "metadata": {},
   "source": [
    "Data will be collected from Foursquare and Wiki\n",
    "\n",
    "1. Geographic location of Singapore and the District\n",
    "2. Geographic location of Food in the district\n",
    "3. Transport Data \n",
    "\n",
    "Python Lib will be used:\n",
    "1. Pandas\n",
    "2. Beautiful soup\n",
    "3. Geocoder\n",
    "4. Folium\n",
    "5. matplotlib"
   ]
  },
  {
   "cell_type": "code",
   "execution_count": null,
   "metadata": {},
   "outputs": [],
   "source": []
  }
 ],
 "metadata": {
  "kernelspec": {
   "display_name": "Python 3",
   "language": "python",
   "name": "python3"
  },
  "language_info": {
   "codemirror_mode": {
    "name": "ipython",
    "version": 3
   },
   "file_extension": ".py",
   "mimetype": "text/x-python",
   "name": "python",
   "nbconvert_exporter": "python",
   "pygments_lexer": "ipython3",
   "version": "3.7.3"
  }
 },
 "nbformat": 4,
 "nbformat_minor": 2
}
