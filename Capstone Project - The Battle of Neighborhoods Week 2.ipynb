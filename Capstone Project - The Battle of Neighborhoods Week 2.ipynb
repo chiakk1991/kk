{
 "cells": [
  {
   "cell_type": "markdown",
   "metadata": {},
   "source": [
    "# Capstone Project - The Battle of Neighborhoods (Week 2)"
   ]
  },
  {
   "cell_type": "markdown",
   "metadata": {},
   "source": [
    "# 1. Introduction"
   ]
  },
  {
   "cell_type": "markdown",
   "metadata": {},
   "source": [
    "# 1.1 A description of the problem and a discussion of the background."
   ]
  },
  {
   "cell_type": "markdown",
   "metadata": {},
   "source": [
    "Singapore is a multi cultural country. It has a huge variety of different cuisine.\n",
    "Queenstown district has many workplace and thus will definitely have lunch or dinner crowd\n",
    "My friend would like to set up a food store in Singapore around the Queenstown district that is near to transportation mean.\n",
    "I would like to help him to see what type of cuisine is limited or unavaliable in the district.\n",
    "This would allow him to have choices to start his business with the data that is provided.\n",
    "\n",
    "Information needed:\n",
    "1. Singapore Map (Queenstown District)\n",
    "2. Type of food in the area\n",
    "3. Near to MRT"
   ]
  },
  {
   "cell_type": "markdown",
   "metadata": {},
   "source": [
    "# 2 Data Required"
   ]
  },
  {
   "cell_type": "markdown",
   "metadata": {},
   "source": [
    "# 2.1 Description of the data and its sources"
   ]
  },
  {
   "cell_type": "markdown",
   "metadata": {},
   "source": [
    "Data will be collected from Foursquare and Wiki\n",
    "\n",
    "1. Geographic location of Singapore and the District\n",
    "2. Geographic location of Food in the district\n",
    "3. Transport Data \n",
    "\n",
    "Python Lib will be used:\n",
    "1. Pandas\n",
    "2. Beautiful soup\n",
    "3. Geocoder\n",
    "4. Folium\n",
    "5. matplotlib\n",
    "\n",
    "Some data are self-made as unable to obtain online.\n",
    "Data such as:\n",
    "1. Rental pricing\n",
    "2. Rental location\n",
    "3. Rental Spaces\n"
   ]
  },
  {
   "cell_type": "markdown",
   "metadata": {},
   "source": [
    "# 3 Methodology"
   ]
  },
  {
   "cell_type": "markdown",
   "metadata": {},
   "source": [
    "After the processing of data we will see the data if it answered the following question\n",
    "1. The different type of food\n",
    "2. What MRT is near\n",
    "3. Rental of the Area\n",
    "4. Does distance to MRT affect the Rental "
   ]
  },
  {
   "cell_type": "markdown",
   "metadata": {},
   "source": [
    "## 3.1 Code Start"
   ]
  },
  {
   "cell_type": "markdown",
   "metadata": {},
   "source": [
    "Importing of Libraries"
   ]
  },
  {
   "cell_type": "code",
   "execution_count": 1,
   "metadata": {},
   "outputs": [
    {
     "name": "stdout",
     "output_type": "stream",
     "text": [
      "Collecting package metadata (current_repodata.json): ...working... done\n",
      "Solving environment: ...working... done\n",
      "\n",
      "# All requested packages already installed.\n",
      "\n",
      "Collecting package metadata (current_repodata.json): ...working... done\n",
      "Solving environment: ...working... done\n",
      "\n",
      "# All requested packages already installed.\n",
      "\n"
     ]
    }
   ],
   "source": [
    "import numpy as np \n",
    "import time\n",
    "import pandas as pd \n",
    "import json \n",
    "import requests\n",
    "from pandas.io.json import json_normalize\n",
    "!conda install -c conda-forge geopy --yes\n",
    "from geopy.geocoders import Nominatim \n",
    "!conda install -c conda-forge folium=0.5.0 --yes\n",
    "import folium\n",
    "from folium import plugins\n",
    "import matplotlib.cm as cm\n",
    "import matplotlib.colors as colors\n",
    "import seaborn as sns\n",
    "from sklearn.cluster import KMeans"
   ]
  },
  {
   "cell_type": "markdown",
   "metadata": {},
   "source": [
    "Queenstown, Singapore Geo Location"
   ]
  },
  {
   "cell_type": "code",
   "execution_count": 2,
   "metadata": {},
   "outputs": [
    {
     "name": "stderr",
     "output_type": "stream",
     "text": [
      "C:\\Users\\common\\Anaconda3\\lib\\site-packages\\ipykernel_launcher.py:2: DeprecationWarning: Using Nominatim with the default \"geopy/1.20.0\" `user_agent` is strongly discouraged, as it violates Nominatim's ToS https://operations.osmfoundation.org/policies/nominatim/ and may possibly cause 403 and 429 HTTP errors. Please specify a custom `user_agent` with `Nominatim(user_agent=\"my-application\")` or by overriding the default `user_agent`: `geopy.geocoders.options.default_user_agent = \"my-application\"`. In geopy 2.0 this will become an exception.\n",
      "  \n"
     ]
    },
    {
     "name": "stdout",
     "output_type": "stream",
     "text": [
      "The geograpical coordinate of Singapore home are 1.2946235, 103.8060454.\n"
     ]
    }
   ],
   "source": [
    "address = 'Queenstown, Singapore'\n",
    "geolocator = Nominatim()\n",
    "location = geolocator.geocode(address)\n",
    "latitude = location.latitude\n",
    "longitude = location.longitude\n",
    "print('The geograpical coordinate of Singapore home are {}, {}.'.format(latitude, longitude))"
   ]
  },
  {
   "cell_type": "code",
   "execution_count": 3,
   "metadata": {},
   "outputs": [],
   "source": [
    "neighborhood_latitude=1.2946235\n",
    "neighborhood_longitude=103.8060454"
   ]
  },
  {
   "cell_type": "markdown",
   "metadata": {},
   "source": [
    "Define Foursquare Credentials and Version"
   ]
  },
  {
   "cell_type": "code",
   "execution_count": 4,
   "metadata": {},
   "outputs": [
    {
     "name": "stdout",
     "output_type": "stream",
     "text": [
      "Your credentails:\n",
      "CLIENT_ID: SJ0EHYCTWMXKID3LIWN42KRAWHS1SJNZHVRR3KU2NQXQAMHY\n",
      "CLIENT_SECRET:2P1CP1CGYDAF1UU4OUJTYOD20D1NSPNCJE1R20CT2GUIQFDY\n"
     ]
    }
   ],
   "source": [
    "CLIENT_ID = 'SJ0EHYCTWMXKID3LIWN42KRAWHS1SJNZHVRR3KU2NQXQAMHY' # your Foursquare ID\n",
    "CLIENT_SECRET = '2P1CP1CGYDAF1UU4OUJTYOD20D1NSPNCJE1R20CT2GUIQFDY' # your Foursquare Secret\n",
    "VERSION = '20180605' # Foursquare API version\n",
    "\n",
    "print('Your credentails:')\n",
    "print('CLIENT_ID: ' + CLIENT_ID)\n",
    "print('CLIENT_SECRET:' + CLIENT_SECRET)"
   ]
  },
  {
   "cell_type": "markdown",
   "metadata": {},
   "source": [
    "Getting data from foursquare"
   ]
  },
  {
   "cell_type": "code",
   "execution_count": 5,
   "metadata": {},
   "outputs": [
    {
     "data": {
      "text/plain": [
       "'https://api.foursquare.com/v2/venues/explore?&client_id=SJ0EHYCTWMXKID3LIWN42KRAWHS1SJNZHVRR3KU2NQXQAMHY&client_secret=2P1CP1CGYDAF1UU4OUJTYOD20D1NSPNCJE1R20CT2GUIQFDY&v=20180605&ll=1.2946235,103.8060454&radius=500&limit=100'"
      ]
     },
     "execution_count": 5,
     "metadata": {},
     "output_type": "execute_result"
    }
   ],
   "source": [
    "LIMIT = 100\n",
    "radius = 500\n",
    "url = 'https://api.foursquare.com/v2/venues/explore?&client_id={}&client_secret={}&v={}&ll={},{}&radius={}&limit={}'.format(\n",
    "    CLIENT_ID, \n",
    "    CLIENT_SECRET, \n",
    "    VERSION, \n",
    "    neighborhood_latitude, \n",
    "    neighborhood_longitude, \n",
    "    radius, \n",
    "    LIMIT)\n",
    "url"
   ]
  },
  {
   "cell_type": "code",
   "execution_count": 6,
   "metadata": {},
   "outputs": [],
   "source": [
    "results = requests.get(url).json()"
   ]
  },
  {
   "cell_type": "markdown",
   "metadata": {},
   "source": [
    "Getting the food type in the area"
   ]
  },
  {
   "cell_type": "code",
   "execution_count": 7,
   "metadata": {},
   "outputs": [],
   "source": [
    "# function that extracts the category of the venue\n",
    "def get_category_type(row):\n",
    "    try:\n",
    "        categories_list = row['categories']\n",
    "    except:\n",
    "        categories_list = row['venue.categories']\n",
    "        \n",
    "    if len(categories_list) == 0:\n",
    "        return None\n",
    "    else:\n",
    "        return categories_list[0]['name']"
   ]
  },
  {
   "cell_type": "code",
   "execution_count": 13,
   "metadata": {},
   "outputs": [
    {
     "data": {
      "text/html": [
       "<div>\n",
       "<style scoped>\n",
       "    .dataframe tbody tr th:only-of-type {\n",
       "        vertical-align: middle;\n",
       "    }\n",
       "\n",
       "    .dataframe tbody tr th {\n",
       "        vertical-align: top;\n",
       "    }\n",
       "\n",
       "    .dataframe thead th {\n",
       "        text-align: right;\n",
       "    }\n",
       "</style>\n",
       "<table border=\"1\" class=\"dataframe\">\n",
       "  <thead>\n",
       "    <tr style=\"text-align: right;\">\n",
       "      <th></th>\n",
       "      <th>name</th>\n",
       "      <th>categories</th>\n",
       "      <th>lat</th>\n",
       "      <th>lng</th>\n",
       "    </tr>\n",
       "  </thead>\n",
       "  <tbody>\n",
       "    <tr>\n",
       "      <th>0</th>\n",
       "      <td>Healing Touch</td>\n",
       "      <td>Spa</td>\n",
       "      <td>1.291318</td>\n",
       "      <td>103.807410</td>\n",
       "    </tr>\n",
       "    <tr>\n",
       "      <th>1</th>\n",
       "      <td>No Signboard Braised Duck Noodles</td>\n",
       "      <td>Chinese Restaurant</td>\n",
       "      <td>1.293188</td>\n",
       "      <td>103.802832</td>\n",
       "    </tr>\n",
       "    <tr>\n",
       "      <th>2</th>\n",
       "      <td>Queenstown MRT Station (EW19)</td>\n",
       "      <td>Train Station</td>\n",
       "      <td>1.294407</td>\n",
       "      <td>103.806140</td>\n",
       "    </tr>\n",
       "    <tr>\n",
       "      <th>3</th>\n",
       "      <td>Ah Pang Steamboat &amp; Seafood</td>\n",
       "      <td>Seafood Restaurant</td>\n",
       "      <td>1.293361</td>\n",
       "      <td>103.802559</td>\n",
       "    </tr>\n",
       "    <tr>\n",
       "      <th>4</th>\n",
       "      <td>Ristorante Takada</td>\n",
       "      <td>Italian Restaurant</td>\n",
       "      <td>1.291396</td>\n",
       "      <td>103.807794</td>\n",
       "    </tr>\n",
       "    <tr>\n",
       "      <th>5</th>\n",
       "      <td>新路 Fishball Noodle</td>\n",
       "      <td>Noodle House</td>\n",
       "      <td>1.293045</td>\n",
       "      <td>103.802903</td>\n",
       "    </tr>\n",
       "    <tr>\n",
       "      <th>6</th>\n",
       "      <td>Cafe Galilee</td>\n",
       "      <td>Café</td>\n",
       "      <td>1.298478</td>\n",
       "      <td>103.805211</td>\n",
       "    </tr>\n",
       "    <tr>\n",
       "      <th>7</th>\n",
       "      <td>Mei Ling Market &amp; Food Centre</td>\n",
       "      <td>Food Court</td>\n",
       "      <td>1.293007</td>\n",
       "      <td>103.803042</td>\n",
       "    </tr>\n",
       "    <tr>\n",
       "      <th>8</th>\n",
       "      <td>Queenstown Stadium</td>\n",
       "      <td>Stadium</td>\n",
       "      <td>1.296276</td>\n",
       "      <td>103.802691</td>\n",
       "    </tr>\n",
       "    <tr>\n",
       "      <th>9</th>\n",
       "      <td>Queenstown Swimming Complex</td>\n",
       "      <td>Pool</td>\n",
       "      <td>1.296719</td>\n",
       "      <td>103.802467</td>\n",
       "    </tr>\n",
       "    <tr>\n",
       "      <th>10</th>\n",
       "      <td>Shi Hui Yuan Hor Fun Specialty</td>\n",
       "      <td>Chinese Restaurant</td>\n",
       "      <td>1.292921</td>\n",
       "      <td>103.803115</td>\n",
       "    </tr>\n",
       "    <tr>\n",
       "      <th>11</th>\n",
       "      <td>Sin Kee Famous Chicken Rice 新记驰名鸡饭</td>\n",
       "      <td>Chinese Restaurant</td>\n",
       "      <td>1.293142</td>\n",
       "      <td>103.802596</td>\n",
       "    </tr>\n",
       "    <tr>\n",
       "      <th>12</th>\n",
       "      <td>Hai Tang Lor Mee</td>\n",
       "      <td>Food Court</td>\n",
       "      <td>1.293313</td>\n",
       "      <td>103.803092</td>\n",
       "    </tr>\n",
       "    <tr>\n",
       "      <th>13</th>\n",
       "      <td>7 Stars (Food Court)</td>\n",
       "      <td>Food Court</td>\n",
       "      <td>1.295043</td>\n",
       "      <td>103.810297</td>\n",
       "    </tr>\n",
       "  </tbody>\n",
       "</table>\n",
       "</div>"
      ],
      "text/plain": [
       "                                  name          categories       lat  \\\n",
       "0                        Healing Touch                 Spa  1.291318   \n",
       "1    No Signboard Braised Duck Noodles  Chinese Restaurant  1.293188   \n",
       "2        Queenstown MRT Station (EW19)       Train Station  1.294407   \n",
       "3          Ah Pang Steamboat & Seafood  Seafood Restaurant  1.293361   \n",
       "4                    Ristorante Takada  Italian Restaurant  1.291396   \n",
       "5                   新路 Fishball Noodle        Noodle House  1.293045   \n",
       "6                         Cafe Galilee                Café  1.298478   \n",
       "7        Mei Ling Market & Food Centre          Food Court  1.293007   \n",
       "8                   Queenstown Stadium             Stadium  1.296276   \n",
       "9          Queenstown Swimming Complex                Pool  1.296719   \n",
       "10      Shi Hui Yuan Hor Fun Specialty  Chinese Restaurant  1.292921   \n",
       "11  Sin Kee Famous Chicken Rice 新记驰名鸡饭  Chinese Restaurant  1.293142   \n",
       "12                    Hai Tang Lor Mee          Food Court  1.293313   \n",
       "13                7 Stars (Food Court)          Food Court  1.295043   \n",
       "\n",
       "           lng  \n",
       "0   103.807410  \n",
       "1   103.802832  \n",
       "2   103.806140  \n",
       "3   103.802559  \n",
       "4   103.807794  \n",
       "5   103.802903  \n",
       "6   103.805211  \n",
       "7   103.803042  \n",
       "8   103.802691  \n",
       "9   103.802467  \n",
       "10  103.803115  \n",
       "11  103.802596  \n",
       "12  103.803092  \n",
       "13  103.810297  "
      ]
     },
     "execution_count": 13,
     "metadata": {},
     "output_type": "execute_result"
    }
   ],
   "source": [
    "venues = results['response']['groups'][0]['items']\n",
    "    \n",
    "nearby_venues = json_normalize(venues) # flatten JSON\n",
    "\n",
    "# filter columns\n",
    "filtered_columns = ['venue.name', 'venue.categories', 'venue.location.lat', 'venue.location.lng']\n",
    "nearby_venues =nearby_venues.loc[:, filtered_columns]\n",
    "\n",
    "# filter the category for each row\n",
    "nearby_venues['venue.categories'] = nearby_venues.apply(get_category_type, axis=1)\n",
    "\n",
    "# clean columns\n",
    "nearby_venues.columns = [col.split(\".\")[-1] for col in nearby_venues.columns]\n",
    "\n",
    "nearby_venues"
   ]
  },
  {
   "cell_type": "code",
   "execution_count": 12,
   "metadata": {},
   "outputs": [
    {
     "name": "stdout",
     "output_type": "stream",
     "text": [
      "14 venues were returned by Foursquare.\n"
     ]
    }
   ],
   "source": [
    "print('{} venues were returned by Foursquare.'.format(nearby_venues.shape[0]))"
   ]
  },
  {
   "cell_type": "code",
   "execution_count": 14,
   "metadata": {},
   "outputs": [
    {
     "data": {
      "text/html": [
       "<div>\n",
       "<style scoped>\n",
       "    .dataframe tbody tr th:only-of-type {\n",
       "        vertical-align: middle;\n",
       "    }\n",
       "\n",
       "    .dataframe tbody tr th {\n",
       "        vertical-align: top;\n",
       "    }\n",
       "\n",
       "    .dataframe thead th {\n",
       "        text-align: right;\n",
       "    }\n",
       "</style>\n",
       "<table border=\"1\" class=\"dataframe\">\n",
       "  <thead>\n",
       "    <tr style=\"text-align: right;\">\n",
       "      <th></th>\n",
       "      <th>Possible Locations</th>\n",
       "      <th>Station</th>\n",
       "      <th>Station Name</th>\n",
       "    </tr>\n",
       "  </thead>\n",
       "  <tbody>\n",
       "    <tr>\n",
       "      <th>0</th>\n",
       "      <td>[{'ADDRESS': '10 JURONG EAST STREET 12 JURONG ...</td>\n",
       "      <td>NS1</td>\n",
       "      <td>Jurong East</td>\n",
       "    </tr>\n",
       "    <tr>\n",
       "      <th>1</th>\n",
       "      <td>[{'ADDRESS': '10 BUKIT BATOK CENTRAL BUKIT BAT...</td>\n",
       "      <td>NS2</td>\n",
       "      <td>Bukit Batok</td>\n",
       "    </tr>\n",
       "    <tr>\n",
       "      <th>2</th>\n",
       "      <td>[{'ADDRESS': '802 BUKIT BATOK WEST AVENUE 5 BU...</td>\n",
       "      <td>NS3</td>\n",
       "      <td>Bukit Gombak</td>\n",
       "    </tr>\n",
       "    <tr>\n",
       "      <th>3</th>\n",
       "      <td>[{'ADDRESS': '10 CHOA CHU KANG AVENUE 4 CHOA C...</td>\n",
       "      <td>NS4</td>\n",
       "      <td>Choa Chu Kang</td>\n",
       "    </tr>\n",
       "    <tr>\n",
       "      <th>4</th>\n",
       "      <td>[{'ADDRESS': '61 CHOA CHU KANG DRIVE YEW TEE M...</td>\n",
       "      <td>NS5</td>\n",
       "      <td>Yew Tee</td>\n",
       "    </tr>\n",
       "  </tbody>\n",
       "</table>\n",
       "</div>"
      ],
      "text/plain": [
       "                                  Possible Locations Station   Station Name\n",
       "0  [{'ADDRESS': '10 JURONG EAST STREET 12 JURONG ...     NS1    Jurong East\n",
       "1  [{'ADDRESS': '10 BUKIT BATOK CENTRAL BUKIT BAT...     NS2    Bukit Batok\n",
       "2  [{'ADDRESS': '802 BUKIT BATOK WEST AVENUE 5 BU...     NS3   Bukit Gombak\n",
       "3  [{'ADDRESS': '10 CHOA CHU KANG AVENUE 4 CHOA C...     NS4  Choa Chu Kang\n",
       "4  [{'ADDRESS': '61 CHOA CHU KANG DRIVE YEW TEE M...     NS5        Yew Tee"
      ]
     },
     "execution_count": 14,
     "metadata": {},
     "output_type": "execute_result"
    }
   ],
   "source": [
    "singaporemrt = 'mrt_stations.json'\n",
    "sgmrt = pd.read_json(singaporemrt,\n",
    "   convert_dates=True)\n",
    "sgmrt.head()"
   ]
  },
  {
   "cell_type": "code",
   "execution_count": 10,
   "metadata": {
    "scrolled": true
   },
   "outputs": [
    {
     "data": {
      "text/html": [
       "<div style=\"width:100%;\"><div style=\"position:relative;width:100%;height:0;padding-bottom:60%;\"><iframe src=\"data:text/html;charset=utf-8;base64,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\" style=\"position:absolute;width:100%;height:100%;left:0;top:0;border:none !important;\" allowfullscreen webkitallowfullscreen mozallowfullscreen></iframe></div></div>"
      ],
      "text/plain": [
       "<folium.folium.Map at 0x2b10f149320>"
      ]
     },
     "execution_count": 10,
     "metadata": {},
     "output_type": "execute_result"
    }
   ],
   "source": [
    "atitude=1.279925\n",
    "longitude=103.847333\n",
    "# create map of Singapore place  using latitude and longitude values\n",
    "map_sg = folium.Map(location=[latitude, longitude], zoom_start=18)\n",
    "# add markers to map\n",
    "for lat, lng, label in zip(nearby_venues['lat'], nearby_venues['lng'], nearby_venues['name']):\n",
    "    label = folium.Popup(label, parse_html=True)\n",
    "    folium.RegularPolygonMarker(\n",
    "        [lat, lng],\n",
    "        number_of_sides=30,\n",
    "        radius=7,\n",
    "        popup=label,\n",
    "        color='blue',\n",
    "        fill_color='#0f0f0f',\n",
    "        fill_opacity=0.6,\n",
    "    ).add_to(map_sg)  \n",
    "    \n",
    "map_sg"
   ]
  },
  {
   "cell_type": "code",
   "execution_count": 37,
   "metadata": {},
   "outputs": [
    {
     "data": {
      "text/html": [
       "<div>\n",
       "<style scoped>\n",
       "    .dataframe tbody tr th:only-of-type {\n",
       "        vertical-align: middle;\n",
       "    }\n",
       "\n",
       "    .dataframe tbody tr th {\n",
       "        vertical-align: top;\n",
       "    }\n",
       "\n",
       "    .dataframe thead th {\n",
       "        text-align: right;\n",
       "    }\n",
       "</style>\n",
       "<table border=\"1\" class=\"dataframe\">\n",
       "  <thead>\n",
       "    <tr style=\"text-align: right;\">\n",
       "      <th></th>\n",
       "      <th>Address</th>\n",
       "      <th>Area</th>\n",
       "      <th>Price_per_ft2</th>\n",
       "      <th>Area-ft2</th>\n",
       "      <th>Rent_Price</th>\n",
       "      <th>Near_to_MRT</th>\n",
       "    </tr>\n",
       "  </thead>\n",
       "  <tbody>\n",
       "    <tr>\n",
       "      <th>0</th>\n",
       "      <td>Alexandra Road</td>\n",
       "      <td>Queenstown</td>\n",
       "      <td>5</td>\n",
       "      <td>1000</td>\n",
       "      <td>5000.0</td>\n",
       "      <td>1</td>\n",
       "    </tr>\n",
       "    <tr>\n",
       "      <th>1</th>\n",
       "      <td>Commonwealth Avenue</td>\n",
       "      <td>Queenstown</td>\n",
       "      <td>6</td>\n",
       "      <td>1100</td>\n",
       "      <td>6600.0</td>\n",
       "      <td>2</td>\n",
       "    </tr>\n",
       "    <tr>\n",
       "      <th>2</th>\n",
       "      <td>Merino Crescent</td>\n",
       "      <td>Queenstown</td>\n",
       "      <td>7</td>\n",
       "      <td>1000</td>\n",
       "      <td>7000.0</td>\n",
       "      <td>3</td>\n",
       "    </tr>\n",
       "    <tr>\n",
       "      <th>3</th>\n",
       "      <td>Commonwealth</td>\n",
       "      <td>Queenstown</td>\n",
       "      <td>9</td>\n",
       "      <td>1200</td>\n",
       "      <td>10800.0</td>\n",
       "      <td>4</td>\n",
       "    </tr>\n",
       "    <tr>\n",
       "      <th>4</th>\n",
       "      <td>Ghim Moh</td>\n",
       "      <td>Queenstown</td>\n",
       "      <td>11</td>\n",
       "      <td>1200</td>\n",
       "      <td>13200.0</td>\n",
       "      <td>5</td>\n",
       "    </tr>\n",
       "  </tbody>\n",
       "</table>\n",
       "</div>"
      ],
      "text/plain": [
       "               Address        Area  Price_per_ft2  Area-ft2  Rent_Price  \\\n",
       "0       Alexandra Road  Queenstown              5      1000      5000.0   \n",
       "1  Commonwealth Avenue  Queenstown              6      1100      6600.0   \n",
       "2      Merino Crescent  Queenstown              7      1000      7000.0   \n",
       "3         Commonwealth  Queenstown              9      1200     10800.0   \n",
       "4             Ghim Moh  Queenstown             11      1200     13200.0   \n",
       "\n",
       "   Near_to_MRT  \n",
       "0            1  \n",
       "1            2  \n",
       "2            3  \n",
       "3            4  \n",
       "4            5  "
      ]
     },
     "execution_count": 37,
     "metadata": {},
     "output_type": "execute_result"
    }
   ],
   "source": [
    "rental = pd.read_csv(r\"places.csv\",encoding='latin-1')\n",
    "rental.head()"
   ]
  },
  {
   "cell_type": "code",
   "execution_count": 38,
   "metadata": {},
   "outputs": [
    {
     "data": {
      "text/plain": [
       "<matplotlib.axes._subplots.AxesSubplot at 0x2b10fe35438>"
      ]
     },
     "execution_count": 38,
     "metadata": {},
     "output_type": "execute_result"
    },
    {
     "data": {
      "image/png": "[encoded data removed]",
      "text/plain": [
       "<Figure size 432x288 with 1 Axes>"
      ]
     },
     "metadata": {
      "needs_background": "light"
     },
     "output_type": "display_data"
    }
   ],
   "source": [
    "import seaborn as sns\n",
    "sns.distplot(rental['Rent_Price'],bins=15)"
   ]
  },
  {
   "cell_type": "code",
   "execution_count": 39,
   "metadata": {},
   "outputs": [
    {
     "data": {
      "text/plain": [
       "<matplotlib.axes._subplots.AxesSubplot at 0x2b10fedba58>"
      ]
     },
     "execution_count": 39,
     "metadata": {},
     "output_type": "execute_result"
    },
    {
     "data": {
      "image/png": "[encoded data removed]",
      "text/plain": [
       "<Figure size 432x288 with 1 Axes>"
      ]
     },
     "metadata": {
      "needs_background": "light"
     },
     "output_type": "display_data"
    }
   ],
   "source": [
    "sns.boxplot(x='Near_to_MRT', y= 'Rent_Price', data=rental)"
   ]
  },
  {
   "cell_type": "markdown",
   "metadata": {},
   "source": [
    "# 4. Result"
   ]
  },
  {
   "cell_type": "markdown",
   "metadata": {},
   "source": [
    "After gathering of datas in regard to the location of Queenstown, we can see that the pricing of the rental is affected by the MRT distance. The distance closer to MRT the more expensive it appears to be. The variety of food that it offered in the area were limited thus i would recommand my friend to open a food store which serve cuisine such as Japanese cuisine or French Cuisine."
   ]
  },
  {
   "cell_type": "markdown",
   "metadata": {},
   "source": [
    "# 5.0 Discussion"
   ]
  },
  {
   "cell_type": "markdown",
   "metadata": {},
   "source": [
    "I would like to say that i had learned substantial information regarding to data analysis through the courses by IBM. \n",
    "The whole project and other smaller assignment gave me rough guide and knowledge regarding to this field\n",
    "I feel with this course, it gave me a good start on this field.\n",
    "I would continued to learn and explore from more courses that is avaliable in the net"
   ]
  },
  {
   "cell_type": "markdown",
   "metadata": {},
   "source": [
    "# 6.0 Conclusion"
   ]
  },
  {
   "cell_type": "markdown",
   "metadata": {},
   "source": [
    " I am glad to be part of the course and would recommand others that want to pursue this field to try out this course.\n",
    " The project and assignment allows me to stop and test myself. Thank you."
   ]
  },
  {
   "cell_type": "code",
   "execution_count": null,
   "metadata": {},
   "outputs": [],
   "source": []
  }
 ],
 "metadata": {
  "kernelspec": {
   "display_name": "Python 3",
   "language": "python",
   "name": "python3"
  },
  "language_info": {
   "codemirror_mode": {
    "name": "ipython",
    "version": 3
   },
   "file_extension": ".py",
   "mimetype": "text/x-python",
   "name": "python",
   "nbconvert_exporter": "python",
   "pygments_lexer": "ipython3",
   "version": "3.7.3"
  }
 },
 "nbformat": 4,
 "nbformat_minor": 2
}
